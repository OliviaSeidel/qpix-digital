{
 "cells": [
  {
   "cell_type": "code",
   "execution_count": 1,
   "metadata": {},
   "outputs": [],
   "source": [
    "import QpixAsicArray as qparray\n",
    "from QpixAsic import PixelHit, ProcQueue\n",
    "import random\n",
    "import numpy as np\n",
    "random.seed(2)\n",
    "qpa = qparray.QpixAsicArray(16, 16, debug=0.0)"
   ]
  },
  {
   "cell_type": "code",
   "execution_count": 6,
   "metadata": {},
   "outputs": [
    {
     "name": "stdout",
     "output_type": "stream",
     "text": [
      "ran through this many items: 1\n",
      "topProc: 0 1 [0]\n",
      "midProc:   0 1 [0]\n",
      "botProc:   0 1 [0]\n",
      "lenRecv:   0 1 [0]\n",
      "sum: 1\n",
      "ran through this many items: 1\n",
      "topProc: 0 1 [0]\n",
      "midProc:   0 1 [0]\n",
      "botProc:   0 1 [0]\n",
      "lenRecv:   0 1 [0]\n",
      "sum: 1\n",
      "ran through this many items: 1\n",
      "topProc: 0 1 [0]\n",
      "midProc:   0 1 [0]\n",
      "botProc:   0 1 [0]\n",
      "lenRecv:   0 1 [0]\n",
      "sum: 1\n"
     ]
    }
   ],
   "source": [
    "timeNow = 1.\n",
    "timeEnd = 4.0\n",
    "tickNow = 50e6\n",
    "deltaT = 1.0\n",
    "deltaTick = 50e6\n",
    "timeEpsilon = 1e-6\n",
    "eventTimes = []\n",
    "hitsPerEvent, eventTimes = [], []\n",
    "procQueue = ProcQueue()\n",
    "    \n",
    "while(timeNow < timeEnd):\n",
    "\n",
    "    items = 0\n",
    "    topProc = []\n",
    "    midProc = []\n",
    "    botProc = []\n",
    "    lenRecv = []\n",
    "    asicRow = []\n",
    "    asicCol = []\n",
    "\n",
    "    for asic in qpa:\n",
    "        newProcessItems = asic.Process(timeNow - timeEpsilon)\n",
    "        if newProcessItems:\n",
    "            print(\"WARNING: ASIC had things left to do at next maor time step\")\n",
    "\n",
    "    procQueue.AddQueueItem(qpa[0][0], 3, PixelHit(tickNow, [], None, None), timeNow)\n",
    "\n",
    "    while(procQueue.Length() > 0):\n",
    "\n",
    "        nextItem = procQueue.PopQueue()\n",
    "        items += 1\n",
    "\n",
    "        topProc.append(qpa.ProcessArray(procQueue, nextItem.absTime))\n",
    "\n",
    "        newProcessItems = nextItem.asic.ReceiveData(nextItem)\n",
    "        if newProcessItems:\n",
    "            midProc.append(1)\n",
    "            lenRecv.append(len(newProcessItems))\n",
    "            for item in newProcessItems:\n",
    "                procQueue.AddQueueItem(*item)\n",
    "        else:\n",
    "            midProc.append(0)\n",
    "            lenRecv.append(0)\n",
    "\n",
    "        botProc.append(qpa.ProcessArray(procQueue, nextItem.absTime))\n",
    "\n",
    "    eventTimes.append(qpa._daqNode.absTimeNow-timeNow)\n",
    "    hitsPerEvent.append(qpa._daqNode.daqHits)\n",
    "    qpa._daqNode.daqHits = 0\n",
    "    timeNow += deltaT\n",
    "    tickNow += deltaTick\n",
    "    print(\"ran through this many items:\", items)\n",
    "    print('topProc:', np.sum(topProc), len(topProc), topProc[:20])\n",
    "    print('midProc:  ', np.sum(midProc), len(midProc), midProc[:20])\n",
    "    print('botProc:  ', np.sum(botProc), len(botProc), botProc[:20])\n",
    "    print('lenRecv:  ', np.sum(lenRecv), len(lenRecv), lenRecv[:20])\n",
    "    print('sum:', items-np.sum(topProc+midProc+botProc))"
   ]
  },
  {
   "cell_type": "code",
   "execution_count": 3,
   "metadata": {},
   "outputs": [
    {
     "name": "stdout",
     "output_type": "stream",
     "text": [
      "MAX QUEUE DEPTHS\n",
      "10 0  - local: 3 - measures 3 - transactions 49 - receptions 39\n",
      "\t\t0\n",
      "\t0\t\t0\n",
      "\t\t2\n",
      "10 1  - local: 4 - measures 3 - transactions 295 - receptions 282\n",
      "\t\t0\n",
      "\t0\t\t2\n",
      "\t\t41\n",
      "10 2  - local: 4 - measures 3 - transactions 128 - receptions 115\n",
      "\t\t0\n",
      "\t0\t\t0\n",
      "\t\t3\n",
      "PROCESSING TIMES\n",
      "0.003346953260890295\n",
      "0.0033909665908371522\n",
      "0.0034225906228790848\n",
      "HITS PER EVENT\n",
      "707\n",
      "715\n",
      "723\n"
     ]
    }
   ],
   "source": [
    "print(\"MAX QUEUE DEPTHS\")\n",
    "# Check the current queue depths\n",
    "for asic in qpa[10][:3]:\n",
    "    print(asic.row, asic.col, \" - local: \"+str(asic._maxLocalDepth), f\"- measures {asic._measurements}\", f\"- transactions {asic._transmissions}\", f\"- receptions {asic._receptions}\", end='\\n\\t\\t')\n",
    "    print(f\"{asic.maxConnDepths[0]}\\n\\t{asic.maxConnDepths[3]}\", end='\\t\\t')\n",
    "    print(f\"{asic.maxConnDepths[1]}\\n\\t\\t{asic.maxConnDepths[2]}\", end='\\n')\n",
    "    # for d in range(0,4):\n",
    "    #   print(str(asic.maxConnDepths[d])+\", \",end='')\n",
    "    # print()\n",
    "\n",
    "print(\"PROCESSING TIMES\")\n",
    "for i in range(0,len(eventTimes)):\n",
    "  print(str(eventTimes[i]))\n",
    "\n",
    "print(\"HITS PER EVENT\")\n",
    "for i in range(0,len(hitsPerEvent)):\n",
    "  print(str(hitsPerEvent[i]))"
   ]
  },
  {
   "cell_type": "code",
   "execution_count": 4,
   "metadata": {},
   "outputs": [
    {
     "name": "stdout",
     "output_type": "stream",
     "text": [
      "transaction count: 34981\n",
      "measure count: 768\n",
      "difference from total: -23664\n"
     ]
    }
   ],
   "source": [
    "import numpy as np\n",
    "transactions, measures = [], []\n",
    "for asic in qpa:\n",
    "    transactions.append(asic._transmissions)\n",
    "    measures.append(asic._measurements)\n",
    "    # print(asic)\n",
    "print(\"transaction count:\", np.sum(transactions))\n",
    "print(\"measure count:\", np.sum(measures))\n",
    "print(\"difference from total:\", items-(np.sum(measures)+np.sum(transactions)))"
   ]
  }
 ],
 "metadata": {
  "interpreter": {
   "hash": "b9b23f4550f2a394cd97d09b79c3a66b1a7ae25daf42ec9780761e47f1ef4077"
  },
  "kernelspec": {
   "display_name": "Python 3.10.1 64-bit ('ics_env': conda)",
   "language": "python",
   "name": "python3"
  },
  "language_info": {
   "codemirror_mode": {
    "name": "ipython",
    "version": 3
   },
   "file_extension": ".py",
   "mimetype": "text/x-python",
   "name": "python",
   "nbconvert_exporter": "python",
   "pygments_lexer": "ipython3",
   "version": "3.10.1"
  },
  "orig_nbformat": 4
 },
 "nbformat": 4,
 "nbformat_minor": 2
}
