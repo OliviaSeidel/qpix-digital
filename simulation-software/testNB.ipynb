{
 "cells": [
  {
   "cell_type": "code",
   "execution_count": 3,
   "metadata": {},
   "outputs": [],
   "source": [
    "class bla:\n",
    "    def __init__(self, a=2):\n",
    "        self.a = a\n",
    "\n",
    "class superBla(bla):\n",
    "    def __init__(self):\n",
    "        super().__init__()\n",
    "        self.b = 3\n",
    "    \n",
    "\n",
    "b = bla()\n",
    "s = superBla()"
   ]
  },
  {
   "cell_type": "code",
   "execution_count": 5,
   "metadata": {},
   "outputs": [
    {
     "name": "stdout",
     "output_type": "stream",
     "text": [
      "2\n",
      "3 2\n"
     ]
    }
   ],
   "source": [
    "print(b.a)\n",
    "print(s.b, s.a)"
   ]
  },
  {
   "cell_type": "code",
   "execution_count": 8,
   "metadata": {},
   "outputs": [
    {
     "name": "stdout",
     "output_type": "stream",
     "text": [
      "True\n",
      "False\n",
      "True\n",
      "True\n"
     ]
    }
   ],
   "source": [
    "print(isinstance(b, bla))\n",
    "print(isinstance(b, superBla))\n",
    "print(isinstance(s, bla))\n",
    "print(isinstance(s, superBla))"
   ]
  },
  {
   "cell_type": "code",
   "execution_count": 5,
   "metadata": {},
   "outputs": [],
   "source": [
    "from dataclasses import dataclass\n",
    "\n",
    "@dataclass\n",
    "class myStruct:\n",
    "    a: int"
   ]
  },
  {
   "cell_type": "code",
   "execution_count": 6,
   "metadata": {},
   "outputs": [],
   "source": [
    "b = myStruct(2)"
   ]
  },
  {
   "cell_type": "code",
   "execution_count": 8,
   "metadata": {},
   "outputs": [
    {
     "name": "stdout",
     "output_type": "stream",
     "text": [
      "2\n",
      "myStruct(a=2)\n"
     ]
    }
   ],
   "source": [
    "print(b.a)\n",
    "print(b)"
   ]
  },
  {
   "cell_type": "code",
   "execution_count": null,
   "metadata": {},
   "outputs": [],
   "source": []
  }
 ],
 "metadata": {
  "kernelspec": {
   "display_name": "Python 3.10.1 ('ics_env')",
   "language": "python",
   "name": "python3"
  },
  "language_info": {
   "codemirror_mode": {
    "name": "ipython",
    "version": 3
   },
   "file_extension": ".py",
   "mimetype": "text/x-python",
   "name": "python",
   "nbconvert_exporter": "python",
   "pygments_lexer": "ipython3",
   "version": "3.10.1"
  },
  "orig_nbformat": 4,
  "vscode": {
   "interpreter": {
    "hash": "9af8d2821591728ea2b07b286c6efd60136e74ee251ea126e594d7a1e95dec42"
   }
  }
 },
 "nbformat": 4,
 "nbformat_minor": 2
}
