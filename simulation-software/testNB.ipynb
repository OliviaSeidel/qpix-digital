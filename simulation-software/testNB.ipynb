{
 "cells": [
  {
   "cell_type": "code",
   "execution_count": 3,
   "metadata": {},
   "outputs": [],
   "source": [
    "class bla:\n",
    "    def __init__(self, a=2):\n",
    "        self.a = a\n",
    "\n",
    "class superBla(bla):\n",
    "    def __init__(self):\n",
    "        super().__init__()\n",
    "        self.b = 3\n",
    "    \n",
    "\n",
    "b = bla()\n",
    "s = superBla()"
   ]
  },
  {
   "cell_type": "code",
   "execution_count": 5,
   "metadata": {},
   "outputs": [
    {
     "name": "stdout",
     "output_type": "stream",
     "text": [
      "2\n",
      "3 2\n"
     ]
    }
   ],
   "source": [
    "print(b.a)\n",
    "print(s.b, s.a)"
   ]
  },
  {
   "cell_type": "code",
   "execution_count": 8,
   "metadata": {},
   "outputs": [
    {
     "name": "stdout",
     "output_type": "stream",
     "text": [
      "True\n",
      "False\n",
      "True\n",
      "True\n"
     ]
    }
   ],
   "source": [
    "print(isinstance(b, bla))\n",
    "print(isinstance(b, superBla))\n",
    "print(isinstance(s, bla))\n",
    "print(isinstance(s, superBla))"
   ]
  },
  {
   "cell_type": "code",
   "execution_count": 5,
   "metadata": {},
   "outputs": [],
   "source": [
    "from dataclasses import dataclass\n",
    "\n",
    "@dataclass\n",
    "class myStruct:\n",
    "    a: int"
   ]
  },
  {
   "cell_type": "code",
   "execution_count": 6,
   "metadata": {},
   "outputs": [],
   "source": [
    "b = myStruct(2)"
   ]
  },
  {
   "cell_type": "code",
   "execution_count": 8,
   "metadata": {},
   "outputs": [
    {
     "name": "stdout",
     "output_type": "stream",
     "text": [
      "2\n",
      "myStruct(a=2)\n"
     ]
    }
   ],
   "source": [
    "print(b.a)\n",
    "print(b)"
   ]
  },
  {
   "cell_type": "code",
   "execution_count": 4,
   "metadata": {},
   "outputs": [
    {
     "name": "stdout",
     "output_type": "stream",
     "text": [
      "[1, 2, 3] [1, 2, 3]\n",
      "[4, 5, 6] [4, 5, 6]\n"
     ]
    }
   ],
   "source": [
    "bla = [ [1,2,3], [4,5,6] ]\n",
    "bla2 = [ [1,2,3], [4,5,6] ]\n",
    "for b, b2 in zip(bla[:], bla2[:]):\n",
    "    print(b, b2)"
   ]
  },
  {
   "cell_type": "code",
   "execution_count": 6,
   "metadata": {},
   "outputs": [],
   "source": [
    "from enum import Enum\n",
    "\n",
    "class bla(Enum):\n",
    "    a = 1\n",
    "    b = 2\n",
    "    c = 3\n",
    "\n",
    "\n",
    "d = bla.a"
   ]
  },
  {
   "cell_type": "code",
   "execution_count": 8,
   "metadata": {},
   "outputs": [
    {
     "ename": "TypeError",
     "evalue": "unsupported operand type(s) for +: 'bla' and 'int'",
     "output_type": "error",
     "traceback": [
      "\u001b[1;31m---------------------------------------------------------------------------\u001b[0m",
      "\u001b[1;31mTypeError\u001b[0m                                 Traceback (most recent call last)",
      "\u001b[1;32mc:\\Users\\keefe\\Documents\\research\\qpix-digital\\simulation-software\\testNB.ipynb Cell 9\u001b[0m in \u001b[0;36m<module>\u001b[1;34m\u001b[0m\n\u001b[0;32m      <a href='vscode-notebook-cell:/c%3A/Users/keefe/Documents/research/qpix-digital/simulation-software/testNB.ipynb#ch0000010?line=0'>1</a>\u001b[0m d\n\u001b[1;32m----> <a href='vscode-notebook-cell:/c%3A/Users/keefe/Documents/research/qpix-digital/simulation-software/testNB.ipynb#ch0000010?line=1'>2</a>\u001b[0m c \u001b[39m=\u001b[39m d\u001b[39m+\u001b[39;49m\u001b[39m1\u001b[39;49m\n",
      "\u001b[1;31mTypeError\u001b[0m: unsupported operand type(s) for +: 'bla' and 'int'"
     ]
    }
   ],
   "source": [
    "d\n",
    "c = d+1"
   ]
  },
  {
   "cell_type": "code",
   "execution_count": 1,
   "metadata": {},
   "outputs": [
    {
     "ename": "SyntaxError",
     "evalue": "unterminated string literal (detected at line 1) (Temp/ipykernel_8344/1276524860.py, line 1)",
     "output_type": "error",
     "traceback": [
      "\u001b[1;36m  Input \u001b[1;32mIn [1]\u001b[1;36m\u001b[0m\n\u001b[1;33m    b'3\u001b[0m\n\u001b[1;37m    ^\u001b[0m\n\u001b[1;31mSyntaxError\u001b[0m\u001b[1;31m:\u001b[0m unterminated string literal (detected at line 1)\n"
     ]
    }
   ],
   "source": [
    "b'3"
   ]
  },
  {
   "cell_type": "code",
   "execution_count": 10,
   "metadata": {},
   "outputs": [
    {
     "name": "stdout",
     "output_type": "stream",
     "text": [
      "1\n"
     ]
    }
   ],
   "source": [
    "h = 0x830\n",
    "xdest = h>>3 \n",
    "xdest = h>>5 \n",
    "xdest = xdest & 3\n",
    "print(xdest)"
   ]
  },
  {
   "cell_type": "code",
   "execution_count": 18,
   "metadata": {},
   "outputs": [
    {
     "name": "stdout",
     "output_type": "stream",
     "text": [
      "0x80c\n",
      "0x82c\n",
      "0x92c\n",
      "0x90c\n"
     ]
    }
   ],
   "source": [
    "print(hex(0b1_000_000_011_00)) # C - 0x80c x=y=0\n",
    "print(hex(0b1_000_001_011_00)) # A - 0x82c x=1, y=0\n",
    "print(hex(0b1_001_001_011_00)) # B - 0x92c x=y=1\n",
    "print(hex(0b1_001_000_011_00)) # D - 0x90c x=0, y=1"
   ]
  },
  {
   "cell_type": "code",
   "execution_count": 19,
   "metadata": {},
   "outputs": [
    {
     "data": {
      "text/plain": [
       "False"
      ]
     },
     "execution_count": 19,
     "metadata": {},
     "output_type": "execute_result"
    }
   ],
   "source": [
    "0 == None"
   ]
  },
  {
   "cell_type": "code",
   "execution_count": 20,
   "metadata": {},
   "outputs": [
    {
     "name": "stdout",
     "output_type": "stream",
     "text": [
      "bla.b\n"
     ]
    }
   ],
   "source": [
    "from enum import Enum\n",
    "\n",
    "class bla(Enum):\n",
    "    a = 1\n",
    "    b = 2\n",
    "\n",
    "c = bla(2)\n",
    "print(c)"
   ]
  },
  {
   "cell_type": "code",
   "execution_count": null,
   "metadata": {},
   "outputs": [],
   "source": []
  }
 ],
 "metadata": {
  "kernelspec": {
   "display_name": "Python 3.10.1 ('ics_env')",
   "language": "python",
   "name": "python3"
  },
  "language_info": {
   "codemirror_mode": {
    "name": "ipython",
    "version": 3
   },
   "file_extension": ".py",
   "mimetype": "text/x-python",
   "name": "python",
   "nbconvert_exporter": "python",
   "pygments_lexer": "ipython3",
   "version": "3.10.1"
  },
  "orig_nbformat": 4,
  "vscode": {
   "interpreter": {
    "hash": "9af8d2821591728ea2b07b286c6efd60136e74ee251ea126e594d7a1e95dec42"
   }
  }
 },
 "nbformat": 4,
 "nbformat_minor": 2
}
