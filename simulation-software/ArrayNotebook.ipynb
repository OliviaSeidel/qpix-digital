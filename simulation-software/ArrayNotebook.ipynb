{
 "cells": [
  {
   "cell_type": "code",
   "execution_count": null,
   "metadata": {},
   "outputs": [],
   "source": [
    "import QpixAsicArray as qparray\n",
    "from QpixAsic import PixelHit, ProcQueue\n",
    "import random\n",
    "import numpy as np\n",
    "import pylab as p\n",
    "import matplotlib.pyplot as plt\n",
    "random.seed(2)\n",
    "\n",
    "# Increase Jupyter notebook display \n",
    "from IPython.core.display import display, HTML, Latex\n",
    "display(HTML(\"<style>.container { width:80% !important; }</style>\")) #make the code cells bigger"
   ]
  },
  {
   "cell_type": "code",
<<<<<<< HEAD
   "execution_count": null,
   "metadata": {},
   "outputs": [],
=======
   "execution_count": 2,
   "metadata": {},
   "outputs": [
    {
     "name": "stdout",
     "output_type": "stream",
     "text": [
      "performing calibration..\n",
      "calibration complete in 100043 steps!\n",
      "current time is 0.2000000000001587\n",
      "9\n"
     ]
    }
   ],
>>>>>>> upstream/master
   "source": [
    "qpa = qparray.QpixAsicArray(3, 3, debug=0.0, deltaT=10e-6, timeEpsilon=1e-6)\n",
    "qpa._daqNode._debugLevel = 0\n",
    "qpa.Calibrate(1)\n",
    "qpa.Calibrate(1)\n",
    "# qpa.Calibrate(0.2)\n",
    "print(qpa._daqNode.daqHits)"
   ]
  },
  {
   "cell_type": "code",
<<<<<<< HEAD
   "execution_count": null,
   "metadata": {},
   "outputs": [],
   "source": [
    "# for asic in qpa:\n",
    "#     asic.PrintStatus()\n",
    "#     print()\n",
    "#     print(f'does the asic have a connection to the North? {bool(asic.HasConnection(0))} \\n')\n",
    "#     key = f'({asic.row}, {asic.col})'\n",
    "#     print(f'{key} has {asic.CountConnections()} connections \\n')\n",
    "#     print(f'the max local depth of the asic is: {asic._maxLocalDepth} \\n')\n",
    "#     print(f'the max queue depth of the asic is: {asic.maxConnDepths} \\n')\n",
    "    \n",
    "    \n",
    "    \n",
    "# # qpa.readData()"
=======
   "execution_count": 3,
   "metadata": {},
   "outputs": [
    {
     "name": "stdout",
     "output_type": "stream",
     "text": [
      "performing calibration..\n",
      "calibration complete in 500047 steps!\n",
      "current time is 1.200001999992832\n"
     ]
    }
   ],
   "source": [
    "# qpa.Calibrate(0.2)\n",
    "qpa.Calibrate(1.0)"
>>>>>>> upstream/master
   ]
  },
  {
   "cell_type": "code",
<<<<<<< HEAD
   "execution_count": null,
   "metadata": {},
   "outputs": [],
=======
   "execution_count": 4,
   "metadata": {},
   "outputs": [
    {
     "name": "stdout",
     "output_type": "stream",
     "text": [
      "asic ticks: [265, 27923532, 55846799]\n",
      "asic ticks: [493, 48344326]\n",
      "asic ticks: [484, 46496140]\n",
      "asic ticks: [795, 52089708]\n",
      "asic ticks: [761, 47734956]\n",
      "asic ticks: [746, 47315111]\n",
      "asic ticks: [995, 47892381]\n",
      "asic ticks: [1069, 51057120]\n",
      "asic ticks: [1365, 52979135]\n",
      "(0,0) percent diff: 4.50E-07\n",
      "(0,1) percent diff: 1.89E-06\n",
      "(0,2) percent diff: -3.97E-07\n",
      "(1,0) percent diff: 1.24E-06\n",
      "(1,1) percent diff: 1.24E-06\n",
      "(1,2) percent diff: 2.47E-06\n",
      "(2,0) percent diff: 1.01E-07\n",
      "(2,1) percent diff: -2.82E-08\n",
      "(2,2) percent diff: -8.10E-07\n"
     ]
    }
   ],
>>>>>>> upstream/master
   "source": [
    "guessFrq = {}\n",
    "for k, v in qpa._daqNode.pixelData.items():\n",
    "    asic = k\n",
    "    # print(asic)\n",
    "    daqTicks = []\n",
    "    asicTicks = []\n",
    "    for daqTick, asicTick in v:\n",
    "        daqTicks.append(daqTick)\n",
    "        asicTicks.append(asicTick)\n",
    "    print(\"asic ticks:\", asicTicks)\n",
    "    guessFrq[asic] = (asicTicks[1] - asicTicks[0]) / (daqTicks[1] - daqTicks[0])  * qpa._daqNode.fOsc\n",
    "for asic in qpa:\n",
    "    key = f\"({asic.row},{asic.col})\"\n",
    "    print(f\"{key} percent diff: {(guessFrq[key] - asic.fOsc) / asic.fOsc * 100:1.2E}\")\n",
    "#     print(f\"testing {100:1.2E}\")"
   ]
  },
  {
   "cell_type": "code",
   "execution_count": null,
   "metadata": {},
   "outputs": [],
   "source": [
    "plt.figure(figsize=(6, 6))\n",
    "\n",
    "for i in np.arange(10, 20, 10) * 1e-2:\n",
    "    # print(f'the new deltaT is {i}')\n",
    "    qpaNew = qparray.QpixAsicArray(3, 3, debug=0.0, deltaT=2e-6, timeEpsilon=1e-6)\n",
    "    qpaNew.Calibrate(i)\n",
    "    # qpaNew.Calibrate(i)\n",
    "    \n",
    "    guessFrq = {}\n",
    "    percentDiffArray = []\n",
    "    \n",
    "    for k, v in qpaNew._daqNode.pixelData.items():\n",
    "        asic = k\n",
    "        # print(asic)\n",
    "        daqTicks = []\n",
    "        asicTicks = []\n",
    "        for daqTick, asicTick in v:\n",
    "            daqTicks.append(daqTick)\n",
    "            asicTicks.append(asicTick)\n",
    "            print(\"asic ticks:\", asicTicks)\n",
    "        guessFrq[asic] = (asicTicks[1] - asicTicks[0]) / (daqTicks[1] - daqTicks[0])  * qpaNew._daqNode.fOsc\n",
    "        print(f'the guess frequency is {guessFrq[asic]} vs the actual frequency of {qpaNew.fNominal}')\n",
    "        \n",
    "#         percentdiff = np.absolute(guessFrq[asic] - asic.fOsc) / asic.fOsc * 100\n",
    "    \n",
    "    for asic in qpa:\n",
    "        key = f\"({asic.row},{asic.col})\"\n",
    "        percentdiff = (guessFrq[key] - asic.fOsc) / asic.fOsc * 100\n",
    "        print(guessFrq[key])\n",
    "        percentDiffArray.append(percentdiff)\n",
    "        print(f\"{key} percent diff: {percentdiff}\")\n",
    "        print(f\"{key} percent diff: {(guessFrq[key] - asic.fOsc) / asic.fOsc * 100:1.2E}\")\n",
    "        \n",
    "#         print(f'local transmissions are {asic._localTransmissions}')\n",
    "    \n",
    "    average = sum(percentDiffArray) / len(percentDiffArray) \n",
    "    \n",
    "    plt.scatter(i * 1e6, average, marker='o', color='blue')\n",
    "    plt.xlabel(r'$\\mu$s')\n",
    "    plt.ylabel('percent difference')\n",
    "    plt.title('the percent difference')"
   ]
  },
  {
   "cell_type": "code",
   "execution_count": 5,
   "metadata": {},
   "outputs": [
    {
     "data": {
      "text/html": [
       "<style>.container { width:80% !important; }</style>"
      ],
      "text/plain": [
       "<IPython.core.display.HTML object>"
      ]
     },
     "metadata": {},
     "output_type": "display_data"
    },
    {
     "name": "stdout",
     "output_type": "stream",
     "text": [
      "performing calibration..\n",
      "the pixelData for asic (0,0) is [(473, 265)]\n",
      "recording pixel data\n",
      "the pixelData for asic (0,1) is [(1020, 493)]\n",
      "recording pixel data\n",
      "the pixelData for asic (1,0) is [(1256, 484)]\n",
      "recording pixel data\n",
      "the pixelData for asic (0,2) is [(1526, 795)]\n",
      "recording pixel data\n",
      "the pixelData for asic (2,0) is [(1763, 761)]\n",
      "recording pixel data\n",
      "the pixelData for asic (1,1) is [(1999, 746)]\n",
      "recording pixel data\n",
      "the pixelData for asic (1,2) is [(2236, 995)]\n",
      "recording pixel data\n",
      "the pixelData for asic (2,1) is [(2472, 1069)]\n",
      "recording pixel data\n",
      "the pixelData for asic (2,2) is [(2708, 1365)]\n",
      "recording pixel data\n",
      "the initial calibration is complete in 44 steps\n",
      "current time is 2e-06\n",
      "the initial calibration is complete in 0 steps\n",
      "current time is 2e-06\n",
      "the asic is (0,0)\n",
      "asic ticks, first iteration: [265]\n",
      "the asic is (0,1)\n",
      "asic ticks, first iteration: [493]\n",
      "the asic is (1,0)\n",
      "asic ticks, first iteration: [484]\n",
      "the asic is (0,2)\n",
      "asic ticks, first iteration: [795]\n",
      "the asic is (2,0)\n",
      "asic ticks, first iteration: [761]\n",
      "the asic is (1,1)\n",
      "asic ticks, first iteration: [746]\n",
      "the asic is (1,2)\n",
      "asic ticks, first iteration: [995]\n",
      "the asic is (2,1)\n",
      "asic ticks, first iteration: [1069]\n",
      "the asic is (2,2)\n",
      "asic ticks, first iteration: [1365]\n",
      "performing calibration..\n",
      "the initial calibration is complete in 1 steps\n",
      "current time is 4e-06\n",
      "the pixelData for asic (0,0) is [(473, 265), (25000973, 27923532)]\n",
      "recording pixel data\n",
      "the pixelData for asic (0,0) is [(473, 265), (25000973, 27923532), (50001473, 55846799)]\n",
      "recording pixel data\n",
      "the pixelData for asic (0,1) is [(1020, 493), (50002020, 48344326)]\n",
      "recording pixel data\n",
      "the pixelData for asic (1,0) is [(1256, 484), (50002256, 46496140)]\n",
      "recording pixel data\n",
      "the pixelData for asic (0,2) is [(1526, 795), (50002526, 52089708)]\n",
      "recording pixel data\n",
      "the pixelData for asic (2,0) is [(1763, 761), (50002763, 47734956)]\n",
      "recording pixel data\n",
      "the pixelData for asic (1,1) is [(1999, 746), (50002999, 47315111)]\n",
      "recording pixel data\n",
      "the pixelData for asic (1,2) is [(2236, 995), (50003235, 47892381)]\n",
      "recording pixel data\n",
      "the pixelData for asic (2,1) is [(2472, 1069), (50003472, 51057120)]\n",
      "recording pixel data\n",
      "the pixelData for asic (2,2) is [(2708, 1365), (50003708, 52979135)]\n",
      "recording pixel data\n",
      "the initial calibration is complete in 550046 steps\n",
      "current time is 1.1000039999899565\n",
      "the asic is (0,0)\n",
      "asic ticks, second iteration: [265, 27923532, 55846799]\n",
      "the asic is (0,1)\n",
      "asic ticks, second iteration: [493, 48344326]\n",
      "the asic is (1,0)\n",
      "asic ticks, second iteration: [484, 46496140]\n",
      "the asic is (0,2)\n",
      "asic ticks, second iteration: [795, 52089708]\n",
      "the asic is (2,0)\n",
      "asic ticks, second iteration: [761, 47734956]\n",
      "the asic is (1,1)\n",
      "asic ticks, second iteration: [746, 47315111]\n",
      "the asic is (1,2)\n",
      "asic ticks, second iteration: [995, 47892381]\n",
      "the asic is (2,1)\n",
      "asic ticks, second iteration: [1069, 51057120]\n",
      "the asic is (2,2)\n",
      "asic ticks, second iteration: [1365, 52979135]\n",
      "55845417.09165817\n",
      "(0,0) percent diff: 4.498460751300904e-07\n",
      "48342866.14267715\n",
      "(0,1) percent diff: 1.8882707904727294e-06\n",
      "52087871.242575146\n",
      "(0,2) percent diff: -3.966245009083156e-07\n",
      "46494726.10547789\n",
      "(1,0) percent diff: 1.2402697790585098e-06\n",
      "47313418.73162537\n",
      "(1,1) percent diff: 1.2445273512105757e-06\n",
      "47890429.1492256\n",
      "(1,2) percent diff: 2.473216687795784e-06\n",
      "47733240.33519329\n",
      "(2,0) percent diff: 1.0116140217965041e-07\n",
      "51055029.899402015\n",
      "(2,1) percent diff: -2.822735920359699e-08\n",
      "52976710.46579069\n",
      "(2,2) percent diff: -8.097277435097856e-07\n"
     ]
    }
   ],
   "source": [
    "import QpixAsicArray as qparray\n",
    "from QpixAsic import PixelHit, ProcQueue\n",
    "import random\n",
    "import numpy as np\n",
    "import pylab as p\n",
    "import matplotlib.pyplot as plt\n",
    "random.seed(2)\n",
    "\n",
    "# Increase Jupyter notebook display \n",
    "from IPython.core.display import display, HTML, Latex\n",
    "display(HTML(\"<style>.container { width:80% !important; }</style>\")) #make the code cells bigger\n",
    "\n",
    "\n",
    "qpaNew = qparray.QpixAsicArray(3, 3, debug=0.0, deltaT=2e-6, timeEpsilon=1e-6)\n",
    "qpaNew.Calibrate(0)\n",
    "\n",
    "guessFrq = {}\n",
    "percentDiffArray = []\n",
    "\n",
    "for k, v in qpaNew._daqNode.pixelData.items():\n",
    "    #pixelData stores the number of ticks relative to the asic\n",
    "    asic = k\n",
    "    print(f'the asic is {asic}')\n",
    "    daqTicks = []\n",
    "    asicTicks = []\n",
    "    for daqTick, asicTick in v:\n",
    "        daqTicks.append(daqTick)\n",
    "        asicTicks.append(asicTick)\n",
    "    print(\"asic ticks, first iteration:\", asicTicks)\n",
    "\n",
    "\n",
    "qpaNew.Calibrate(1.1)\n",
    "for k, v in qpaNew._daqNode.pixelData.items():\n",
    "    #pixelData stores the number of ticks relative to the asic \n",
    "    asic = k\n",
    "    print(f'the asic is {asic}')\n",
    "    daqTicks = []\n",
    "    asicTicks = []\n",
    "    for daqTick, asicTick in v:\n",
    "        daqTicks.append(daqTick)\n",
    "        asicTicks.append(asicTick)\n",
    "    print(\"asic ticks, second iteration:\", asicTicks)\n",
    "\n",
    "    guessFrq[asic] = (asicTicks[1] - asicTicks[0]) / (daqTicks[1] - daqTicks[0])  * qpaNew._daqNode.fOsc\n",
    "    # print(f'the guess frequency is {guessFrq[asic]} vs the actual frequency of {qpaNew.fNominal}')\n",
    "    \n",
    "#         percentdiff = np.absolute(guessFrq[asic] - asic.fOsc) / asic.fOsc * 100\n",
    "\n",
    "for asic in qpaNew:\n",
    "    key = f\"({asic.row},{asic.col})\"\n",
    "    percentdiff = (guessFrq[key] - asic.fOsc) / asic.fOsc * 100\n",
    "    print(guessFrq[key])\n",
    "    percentDiffArray.append(percentdiff)\n",
    "    print(f\"{key} percent diff: {percentdiff}\")    \n",
    "#         print(f'local transmissions are {asic._localTransmissions}')\n",
    "\n",
    "average = sum(percentDiffArray) / len(percentDiffArray) "
   ]
  },
  {
   "cell_type": "code",
   "execution_count": 1,
   "metadata": {},
   "outputs": [
    {
     "name": "stdout",
     "output_type": "stream",
     "text": [
      "performing calibration..\n",
      "the pixelData for asic (0,0) is [(509, 264)]\n",
      "recording pixel data\n",
      "the pixelData for asic (0,1) is [(1028, 524)]\n",
      "recording pixel data\n",
      "the pixelData for asic (1,0) is [(1283, 498)]\n",
      "recording pixel data\n",
      "the pixelData for asic (0,2) is [(1537, 801)]\n",
      "recording pixel data\n",
      "the pixelData for asic (2,0) is [(1792, 804)]\n",
      "recording pixel data\n",
      "the pixelData for asic (1,1) is [(2046, 757)]\n",
      "recording pixel data\n",
      "the pixelData for asic (1,2) is [(2301, 1057)]\n",
      "recording pixel data\n",
      "the pixelData for asic (2,1) is [(2555, 1021)]\n",
      "recording pixel data\n",
      "the pixelData for asic (2,2) is [(2810, 1270)]\n",
      "recording pixel data\n",
      "the initial calibration is complete in 44 steps\n",
      "current time is 1e-07\n",
      "the initial calibration is complete in 999999 steps\n",
      "current time is 0.10000000000184563\n"
     ]
    }
   ],
   "source": [
    "import QpixAsicArray as qparray\n",
    "from QpixAsic import PixelHit, ProcQueue\n",
    "\n",
    "q = qparray.QpixAsicArray(3, 3, debug=0., deltaT=1e-7, timeEpsilon=1e-6)\n",
    "q.Calibrate(0.1)\n",
    "\n",
    "# FirstDaqTick = [v[0][0] for k, v in q._daqNode.pixelData.items()]\n",
    "# print(f'first daq ticks {FirstDaqTick}')\n",
    "# FirstAsicTick = [v[0][1] for k, v in q._daqNode.pixelData.items()]\n",
    "# print(f'first asic ticks {FirstAsicTick}')\n",
    "\n",
    "# print(q._daqNode.pixelData.items())\n"
   ]
  },
  {
   "cell_type": "code",
   "execution_count": 3,
   "metadata": {},
   "outputs": [
    {
     "name": "stdout",
     "output_type": "stream",
     "text": [
      "dict_items([('(0,0)', [(496, 264)]), ('(0,1)', [(1018, 515)]), ('(1,0)', [(1266, 519)]), ('(1,1)', [(1541, 770)]), ('(0,2)', [(1788, 747)]), ('(2,0)', [(2035, 765)]), ('(1,2)', [(2283, 1056)]), ('(2,1)', [(2530, 1036)]), ('(2,2)', [(2778, 1288)])])\n",
      "9\n"
     ]
    }
   ],
   "source": [
    "print(q._daqNode.pixelData.items())\n",
    "\n",
    "print(q._daqNode.daqHits)"
   ]
  },
  {
   "cell_type": "code",
   "execution_count": 11,
   "metadata": {},
   "outputs": [
    {
     "ename": "AttributeError",
     "evalue": "'something' object has no attribute 'fuckthis'",
     "output_type": "error",
     "traceback": [
      "\u001b[0;31m---------------------------------------------------------------------------\u001b[0m",
      "\u001b[0;31mAttributeError\u001b[0m                            Traceback (most recent call last)",
      "\u001b[0;32m/tmp/ipykernel_24551/3089767877.py\u001b[0m in \u001b[0;36m<module>\u001b[0;34m\u001b[0m\n\u001b[1;32m      7\u001b[0m \u001b[0mding\u001b[0m \u001b[0;34m=\u001b[0m \u001b[0msomething\u001b[0m\u001b[0;34m(\u001b[0m\u001b[0;34m)\u001b[0m\u001b[0;34m\u001b[0m\u001b[0;34m\u001b[0m\u001b[0m\n\u001b[1;32m      8\u001b[0m \u001b[0;34m\u001b[0m\u001b[0m\n\u001b[0;32m----> 9\u001b[0;31m \u001b[0mprint\u001b[0m\u001b[0;34m(\u001b[0m\u001b[0mtype\u001b[0m\u001b[0;34m(\u001b[0m\u001b[0mding\u001b[0m\u001b[0;34m.\u001b[0m\u001b[0mfuckthis\u001b[0m\u001b[0;34m(\u001b[0m\u001b[0;34m)\u001b[0m\u001b[0;34m)\u001b[0m\u001b[0;34m)\u001b[0m\u001b[0;34m\u001b[0m\u001b[0;34m\u001b[0m\u001b[0m\n\u001b[0m",
      "\u001b[0;31mAttributeError\u001b[0m: 'something' object has no attribute 'fuckthis'"
     ]
    }
   ],
   "source": [
    "class something:\n",
    "    def init(self):\n",
    "        self.fuckthis = []\n",
    "        self.measured = 1\n",
    "        print (type(self.fuckthis))\n",
    "    \n",
    "ding = something()"
   ]
  },
  {
   "cell_type": "code",
   "execution_count": null,
   "metadata": {},
   "outputs": [],
   "source": []
  }
 ],
 "metadata": {
  "interpreter": {
   "hash": "e7370f93d1d0cde622a1f8e1c04877d8463912d04d973331ad4851f04de6915a"
  },
  "kernelspec": {
<<<<<<< HEAD
   "display_name": "Python 3.10.4 64-bit",
=======
   "display_name": "Python 3 (ipykernel)",
>>>>>>> upstream/master
   "language": "python",
   "name": "python3"
  },
  "language_info": {
   "codemirror_mode": {
    "name": "ipython",
    "version": 3
   },
   "file_extension": ".py",
   "mimetype": "text/x-python",
   "name": "python",
   "nbconvert_exporter": "python",
   "pygments_lexer": "ipython3",
<<<<<<< HEAD
   "version": "3.10.4"
=======
   "version": "3.9.12"
>>>>>>> upstream/master
  }
 },
 "nbformat": 4,
 "nbformat_minor": 4
}
