{
 "cells": [
  {
   "cell_type": "code",
   "execution_count": 16,
   "metadata": {},
   "outputs": [
    {
     "ename": "TypeError",
     "evalue": "'QByteArray' object does not support item assignment",
     "output_type": "error",
     "traceback": [
      "\u001b[1;31m---------------------------------------------------------------------------\u001b[0m",
      "\u001b[1;31mTypeError\u001b[0m                                 Traceback (most recent call last)",
      "\u001b[1;32mc:\\Users\\keefe\\OneDrive\\Documents\\qpix-digital\\prototype-software\\testNB.ipynb Cell 1\u001b[0m in \u001b[0;36m<cell line: 4>\u001b[1;34m()\u001b[0m\n\u001b[0;32m      <a href='vscode-notebook-cell:/c%3A/Users/keefe/OneDrive/Documents/qpix-digital/prototype-software/testNB.ipynb#W0sZmlsZQ%3D%3D?line=1'>2</a>\u001b[0m b \u001b[39m=\u001b[39m QByteArray()\n\u001b[0;32m      <a href='vscode-notebook-cell:/c%3A/Users/keefe/OneDrive/Documents/qpix-digital/prototype-software/testNB.ipynb#W0sZmlsZQ%3D%3D?line=2'>3</a>\u001b[0m b\u001b[39m.\u001b[39mresize(\u001b[39m10\u001b[39m)\n\u001b[1;32m----> <a href='vscode-notebook-cell:/c%3A/Users/keefe/OneDrive/Documents/qpix-digital/prototype-software/testNB.ipynb#W0sZmlsZQ%3D%3D?line=3'>4</a>\u001b[0m b[\u001b[39m0\u001b[39m] \u001b[39m=\u001b[39m \u001b[39m'\u001b[39m\u001b[39mh\u001b[39m\u001b[39m'\u001b[39m\n\u001b[0;32m      <a href='vscode-notebook-cell:/c%3A/Users/keefe/OneDrive/Documents/qpix-digital/prototype-software/testNB.ipynb#W0sZmlsZQ%3D%3D?line=4'>5</a>\u001b[0m b[\u001b[39m1\u001b[39m] \u001b[39m=\u001b[39m \u001b[39m'\u001b[39m\u001b[39mi\u001b[39m\u001b[39m'\u001b[39m\n\u001b[0;32m      <a href='vscode-notebook-cell:/c%3A/Users/keefe/OneDrive/Documents/qpix-digital/prototype-software/testNB.ipynb#W0sZmlsZQ%3D%3D?line=5'>6</a>\u001b[0m b[\u001b[39m2\u001b[39m] \u001b[39m=\u001b[39m \u001b[39m'\u001b[39m\u001b[39m \u001b[39m\u001b[39m'\u001b[39m\n",
      "\u001b[1;31mTypeError\u001b[0m: 'QByteArray' object does not support item assignment"
     ]
    }
   ],
   "source": [
    "from PyQt5.QtCore import QObject, QByteArray, pyqtSignal, QThread\n",
    "b = QByteArray()\n",
    "b.resize(10)\n",
    "b[0] = 'h'\n",
    "b[1] = 'i'\n",
    "b[2] = ' '\n",
    "b[3] = 't'\n",
    "b[4] = 'h'\n",
    "b[5] = 'e'\n",
    "b[6] = 'r'\n",
    "b[7] = 'e'\n",
    "b[8] = '!'\n",
    "b[9] = '?'\n"
   ]
  },
  {
   "cell_type": "code",
   "execution_count": 12,
   "metadata": {},
   "outputs": [
    {
     "name": "stdout",
     "output_type": "stream",
     "text": [
      "ni hao\n"
     ]
    }
   ],
   "source": [
    "print(b)"
   ]
  },
  {
   "cell_type": "code",
   "execution_count": 8,
   "metadata": {},
   "outputs": [
    {
     "name": "stdout",
     "output_type": "stream",
     "text": [
      "5.15.7\n"
     ]
    }
   ],
   "source": [
    "from PyQt5.Qt import PYQT_VERSION_STR\n",
    "print(PYQT_VERSION_STR)"
   ]
  },
  {
   "cell_type": "code",
   "execution_count": null,
   "metadata": {},
   "outputs": [],
   "source": []
  }
 ],
 "metadata": {
  "kernelspec": {
   "display_name": "Python 3.9.12 64-bit",
   "language": "python",
   "name": "python3"
  },
  "language_info": {
   "codemirror_mode": {
    "name": "ipython",
    "version": 3
   },
   "file_extension": ".py",
   "mimetype": "text/x-python",
   "name": "python",
   "nbconvert_exporter": "python",
   "pygments_lexer": "ipython3",
   "version": "3.9.12"
  },
  "orig_nbformat": 4,
  "vscode": {
   "interpreter": {
    "hash": "2daa56ca99d0489c343614618dcad8b700b4ddcfac3e13481ea8a96a26ea4475"
   }
  }
 },
 "nbformat": 4,
 "nbformat_minor": 2
}
