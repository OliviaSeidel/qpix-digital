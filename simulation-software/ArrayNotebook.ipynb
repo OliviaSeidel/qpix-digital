{
 "cells": [
  {
   "cell_type": "code",
   "execution_count": 1,
   "metadata": {},
   "outputs": [],
   "source": [
    "import QpixAsicArray as qparray\n",
    "from QpixAsic import PixelHit, ProcQueue\n",
    "import random\n",
    "import numpy as np\n",
    "random.seed(2)"
   ]
  },
  {
   "cell_type": "code",
   "execution_count": 2,
   "metadata": {},
   "outputs": [
    {
     "name": "stdout",
     "output_type": "stream",
     "text": [
      "performing calibration..\n",
      "calibration complete in 100043 steps!\n",
      "current time is 0.2000000000001587\n",
      "9\n"
     ]
    }
   ],
   "source": [
    "qpa = qparray.QpixAsicArray(3, 3, debug=0.0, deltaT=2e-6)\n",
    "qpa._daqNode._debugLevel = 0\n",
    "qpa.Calibrate(0.2)\n",
    "# qpa.Calibrate(0.2)\n",
    "print(qpa._daqNode.daqHits)"
   ]
  },
  {
   "cell_type": "code",
   "execution_count": 3,
   "metadata": {},
   "outputs": [
    {
     "name": "stdout",
     "output_type": "stream",
     "text": [
      "performing calibration..\n",
      "calibration complete in 500047 steps!\n",
      "current time is 1.200001999992832\n"
     ]
    }
   ],
   "source": [
    "# qpa.Calibrate(0.2)\n",
    "qpa.Calibrate(1.0)"
   ]
  },
  {
   "cell_type": "code",
   "execution_count": 4,
   "metadata": {},
   "outputs": [
    {
     "name": "stdout",
     "output_type": "stream",
     "text": [
      "asic ticks: [265, 27923532, 55846799]\n",
      "asic ticks: [493, 48344326]\n",
      "asic ticks: [484, 46496140]\n",
      "asic ticks: [795, 52089708]\n",
      "asic ticks: [761, 47734956]\n",
      "asic ticks: [746, 47315111]\n",
      "asic ticks: [995, 47892381]\n",
      "asic ticks: [1069, 51057120]\n",
      "asic ticks: [1365, 52979135]\n",
      "(0,0) percent diff: 4.50E-07\n",
      "(0,1) percent diff: 1.89E-06\n",
      "(0,2) percent diff: -3.97E-07\n",
      "(1,0) percent diff: 1.24E-06\n",
      "(1,1) percent diff: 1.24E-06\n",
      "(1,2) percent diff: 2.47E-06\n",
      "(2,0) percent diff: 1.01E-07\n",
      "(2,1) percent diff: -2.82E-08\n",
      "(2,2) percent diff: -8.10E-07\n"
     ]
    }
   ],
   "source": [
    "guessFrq = {}\n",
    "for k, v in qpa._daqNode.pixelData.items():\n",
    "    asic = k\n",
    "    # print(asic)\n",
    "    daqTicks = []\n",
    "    asicTicks = []\n",
    "    for daqTick, asicTick in v:\n",
    "        daqTicks.append(daqTick)\n",
    "        asicTicks.append(asicTick)\n",
    "    print(\"asic ticks:\", asicTicks)\n",
    "    guessFrq[asic] = (asicTicks[1] - asicTicks[0]) / (daqTicks[1] - daqTicks[0])  * qpa._daqNode.fOsc\n",
    "for asic in qpa:\n",
    "    key = f\"({asic.row},{asic.col})\"\n",
    "    print(f\"{key} percent diff: {(guessFrq[key] - asic.fOsc) / asic.fOsc * 100:1.2E}\")"
   ]
  },
  {
   "cell_type": "code",
   "execution_count": null,
   "metadata": {},
   "outputs": [],
   "source": []
  }
 ],
 "metadata": {
  "interpreter": {
   "hash": "b9b23f4550f2a394cd97d09b79c3a66b1a7ae25daf42ec9780761e47f1ef4077"
  },
  "kernelspec": {
   "display_name": "Python 3 (ipykernel)",
   "language": "python",
   "name": "python3"
  },
  "language_info": {
   "codemirror_mode": {
    "name": "ipython",
    "version": 3
   },
   "file_extension": ".py",
   "mimetype": "text/x-python",
   "name": "python",
   "nbconvert_exporter": "python",
   "pygments_lexer": "ipython3",
   "version": "3.9.12"
  }
 },
 "nbformat": 4,
 "nbformat_minor": 4
}
