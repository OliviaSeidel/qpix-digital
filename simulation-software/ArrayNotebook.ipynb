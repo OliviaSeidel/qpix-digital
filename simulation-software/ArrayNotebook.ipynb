{
 "cells": [
  {
   "cell_type": "code",
   "execution_count": 1,
   "metadata": {},
   "outputs": [],
   "source": [
    "import QpixAsicArray as qparray\n",
    "from QpixAsic import PixelHit, ProcQueue\n",
    "import random\n",
    "import numpy as np\n",
    "random.seed(2)\n",
    "qpa = qparray.QpixAsicArray(4, 4, debug=0.0)"
   ]
  },
  {
   "cell_type": "code",
   "execution_count": 2,
   "metadata": {},
   "outputs": [],
   "source": [
    "# timeNow = 1.\n",
    "# timeEnd = 4.0\n",
    "# tickNow = 50e6\n",
    "# deltaT = 1.0\n",
    "# deltaTick = 50e6\n",
    "# timeEpsilon = 1e-6\n",
    "# eventTimes = []\n",
    "# hitsPerEvent, eventTimes = [], []\n",
    "# procQueue = ProcQueue()\n",
    "    \n",
    "# while(timeNow < timeEnd):\n",
    "\n",
    "#     items = 0\n",
    "#     topProc = []\n",
    "#     midProc = []\n",
    "#     botProc = []\n",
    "#     lenRecv = []\n",
    "#     asicRow = []\n",
    "#     asicCol = []\n",
    "\n",
    "#     for asic in qpa:\n",
    "#         newProcessItems = asic.Process(timeNow - timeEpsilon)\n",
    "#         if newProcessItems:\n",
    "#             print(\"WARNING: ASIC had things left to do at next maor time step\")\n",
    "\n",
    "#     procQueue.AddQueueItem(qpa[0][0], 3, PixelHit(tickNow, [], None, None), timeNow)\n",
    "\n",
    "#     while(procQueue.Length() > 0):\n",
    "\n",
    "#         nextItem = procQueue.PopQueue()\n",
    "#         items += 1\n",
    "\n",
    "#         topProc.append(qpa.ProcessArray(procQueue, nextItem.inTime))\n",
    "\n",
    "#         newProcessItems = nextItem.asic.ReceiveData(nextItem)\n",
    "#         if newProcessItems:\n",
    "#             midProc.append(1)\n",
    "#             lenRecv.append(len(newProcessItems))\n",
    "#             for item in newProcessItems:\n",
    "#                 procQueue.AddQueueItem(*item)\n",
    "#         else:\n",
    "#             midProc.append(0)\n",
    "#             lenRecv.append(0)\n",
    "\n",
    "#         botProc.append(qpa.ProcessArray(procQueue, nextItem.inTime))\n",
    "\n",
    "#     eventTimes.append(qpa._daqNode._absTimeNow-timeNow)\n",
    "#     hitsPerEvent.append(qpa._daqNode.daqHits)\n",
    "#     qpa._daqNode.daqHits = 0\n",
    "#     timeNow += deltaT\n",
    "#     tickNow += deltaTick\n",
    "#     # print(\"ran through this many items:\", items)\n",
    "#     # print('topProc:', np.sum(topProc), len(topProc), topProc[:20])\n",
    "#     # print('midProc:  ', np.sum(midProc), len(midProc), midProc[:20])\n",
    "#     # print('botProc:  ', np.sum(botProc), len(botProc), botProc[:20])\n",
    "#     # print('lenRecv:  ', np.sum(lenRecv), len(lenRecv), lenRecv[:20])\n",
    "#     # print('sum:', items-np.sum(topProc+midProc+botProc))"
   ]
  },
  {
   "cell_type": "code",
   "execution_count": 3,
   "metadata": {},
   "outputs": [
    {
     "name": "stdout",
     "output_type": "stream",
     "text": [
      "performing calibration..\n",
      "received data! 265\n",
      "received data! 493\n",
      "received data! 488\n",
      "received data! 795\n",
      "received data! 811\n",
      "received data! 753\n",
      "received data! 974\n",
      "received data! 993\n",
      "received data! 1333\n",
      "received data! 1014\n",
      "received data! 970\n",
      "received data! 1310\n",
      "received data! 1373\n",
      "received data! 1563\n",
      "received data! 1546\n",
      "received data! 1840\n",
      "calibration complete in 98 steps!\n",
      "performing calibration..\n",
      "received data! 55845682\n",
      "received data! 48343359\n",
      "received data! 47313906\n",
      "received data! 52088666\n",
      "received data! 52977521\n",
      "received data! 47891181\n",
      "received data! 46495700\n",
      "received data! 47734233\n",
      "received data! 51056363\n",
      "received data! 49021306\n",
      "received data! 46157373\n",
      "received data! 50576143\n",
      "received data! 53610073\n",
      "received data! 50133563\n",
      "received data! 50049387\n",
      "received data! 50549154\n",
      "calibration complete in 98 steps!\n",
      "32\n"
     ]
    }
   ],
   "source": [
    "qpa._daqNode._debugLevel = 0\n",
    "qpa.Calibrate(1)\n",
    "qpa.Calibrate(1)\n",
    "print(qpa._daqNode.daqHits)"
   ]
  },
  {
   "cell_type": "code",
   "execution_count": 12,
   "metadata": {},
   "outputs": [
    {
     "name": "stdout",
     "output_type": "stream",
     "text": [
      "(0,0) percent diff: 2.857177137948877e-07\n",
      "(0,1) percent diff: 1.5931348898834817e-06\n",
      "(0,2) percent diff: -8.623282041103211e-07\n",
      "(0,3) percent diff: 1.0134098704071161e-06\n",
      "(1,0) percent diff: -3.018106632468926e-07\n",
      "(1,1) percent diff: 7.351877549335635e-08\n",
      "(1,2) percent diff: -6.010605490052702e-07\n",
      "(1,3) percent diff: 1.6881098404807808e-07\n",
      "(2,0) percent diff: -1.688964437660719e-06\n",
      "(2,1) percent diff: -4.4938804203868296e-07\n",
      "(2,2) percent diff: 1.2490680713565108e-06\n",
      "(2,3) percent diff: -2.593977173466662e-07\n",
      "(3,0) percent diff: 6.492477850903155e-07\n",
      "(3,1) percent diff: -4.420532074343671e-08\n",
      "(3,2) percent diff: -2.8749087212095967e-07\n",
      "(3,3) percent diff: 4.2354077518667335e-07\n"
     ]
    }
   ],
   "source": [
    "guessFrq = {}\n",
    "for k, v in qpa._daqNode.pixelData.items():\n",
    "    asic = k\n",
    "    # print(asic)\n",
    "    daqTicks = []\n",
    "    asicTicks = []\n",
    "    for daqTick, asicTick in v:\n",
    "        daqTicks.append(daqTick)\n",
    "        asicTicks.append(asicTick)\n",
    "    guessFrq[asic] = (asicTicks[1] - asicTicks[0]) / (daqTicks[1] - daqTicks[0])  * qpa._daqNode.fOsc\n",
    "for asic in qpa:\n",
    "    key = f\"({asic.row},{asic.col})\"\n",
    "    print(f\"{key} percent diff: {(guessFrq[key] - asic.fOsc) / asic.fOsc * 100}\")"
   ]
  },
  {
   "cell_type": "code",
   "execution_count": null,
   "metadata": {},
   "outputs": [],
   "source": []
  }
 ],
 "metadata": {
  "interpreter": {
   "hash": "b9b23f4550f2a394cd97d09b79c3a66b1a7ae25daf42ec9780761e47f1ef4077"
  },
  "kernelspec": {
   "display_name": "Python 3.10.1 64-bit ('ics_env': conda)",
   "language": "python",
   "name": "python3"
  },
  "language_info": {
   "codemirror_mode": {
    "name": "ipython",
    "version": 3
   },
   "file_extension": ".py",
   "mimetype": "text/x-python",
   "name": "python",
   "nbconvert_exporter": "python",
   "pygments_lexer": "ipython3",
   "version": "3.10.1"
  },
  "orig_nbformat": 4
 },
 "nbformat": 4,
 "nbformat_minor": 2
}
