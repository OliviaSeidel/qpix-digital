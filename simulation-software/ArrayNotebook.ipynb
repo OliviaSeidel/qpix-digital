{
 "cells": [
  {
   "cell_type": "code",
   "execution_count": 1,
   "metadata": {},
   "outputs": [
    {
     "name": "stdout",
     "output_type": "stream",
     "text": [
      "Created ASIC at row 0 col 0 with frq: 51793130.78\n",
      "Created ASIC at row 0 col 1 with frq: 45434404.56\n",
      "Created ASIC at row 0 col 2 with frq: 51082766.88\n",
      "Created ASIC at row 1 col 0 with frq: 54237379.19\n",
      "Created ASIC at row 1 col 1 with frq: 51722421.67\n",
      "Created ASIC at row 1 col 2 with frq: 50113850.87\n"
     ]
    }
   ],
   "source": [
    "import QpixAsicArray as qparray\n",
    "qpa = qparray.QpixAsicArray(2,2)"
   ]
  },
  {
   "cell_type": "code",
   "execution_count": 2,
   "metadata": {},
   "outputs": [
    {
     "name": "stdout",
     "output_type": "stream",
     "text": [
      "processing time was: 0.0000\n"
     ]
    },
    {
     "data": {
      "text/plain": [
       "[]"
      ]
     },
     "execution_count": 2,
     "metadata": {},
     "output_type": "execute_result"
    }
   ],
   "source": [
    "qpa.readData()"
   ]
  }
 ],
 "metadata": {
  "interpreter": {
   "hash": "b9b23f4550f2a394cd97d09b79c3a66b1a7ae25daf42ec9780761e47f1ef4077"
  },
  "kernelspec": {
   "display_name": "Python 3.10.1 64-bit ('ics_env': conda)",
   "language": "python",
   "name": "python3"
  },
  "language_info": {
   "codemirror_mode": {
    "name": "ipython",
    "version": 3
   },
   "file_extension": ".py",
   "mimetype": "text/x-python",
   "name": "python",
   "nbconvert_exporter": "python",
   "pygments_lexer": "ipython3",
   "version": "3.10.1"
  },
  "orig_nbformat": 4
 },
 "nbformat": 4,
 "nbformat_minor": 2
}
