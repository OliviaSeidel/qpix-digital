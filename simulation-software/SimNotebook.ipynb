{
 "cells": [
  {
   "cell_type": "code",
   "execution_count": 10,
   "metadata": {},
   "outputs": [],
   "source": [
    "from QpixAsic import *\n",
    "import random\n",
    "import math\n",
    "\n",
    "# This is a single trial array\n",
    "\n",
    "# Seed the RNG\n",
    "random.seed(None)\n",
    "\n",
    "# Debug status\n",
    "debugLevel = 5 #5 - debug\n",
    "\n",
    "# Create an array of QPixAsics\n",
    "nRows = 2\n",
    "nCols = 2\n",
    "nPixs = 16\n",
    "\n",
    "# Nominal frequency and associated spread (as 1-sigma in percent)\n",
    "fNominal  = 50e6\n",
    "pctSpread = 0.05\n",
    "\n",
    "# Time interval between DAQ-node timestamps\n",
    "deltaT = 1.0\n",
    "# Ticks in nominal oscillator between DAQ-node timestamps\n",
    "deltaTick = int(math.floor(deltaT * fNominal))\n",
    "# Small time interval used for stepping simulation almost up to current\n",
    "timeEpsilon = 1e-6\n",
    "\n",
    "# How long to run the simulation\n",
    "timeEnd = 2.5"
   ]
  },
  {
   "cell_type": "code",
   "execution_count": 11,
   "metadata": {},
   "outputs": [
    {
     "data": {
      "text/plain": [
       "50000000"
      ]
     },
     "execution_count": 11,
     "metadata": {},
     "output_type": "execute_result"
    }
   ],
   "source": [
    "deltaTick"
   ]
  },
  {
   "cell_type": "code",
   "execution_count": 12,
   "metadata": {
    "scrolled": true
   },
   "outputs": [
    {
     "name": "stdout",
     "output_type": "stream",
     "text": [
      "Created ASIC at row 0 col 0 with frequency 49089101.435170755\n",
      "Created ASIC at row 0 col 1 with frequency 48828027.56922385\n",
      "Created ASIC at row 1 col 0 with frequency 52266090.606685646\n",
      "Created ASIC at row 1 col 1 with frequency 52056187.980699204\n"
     ]
    }
   ],
   "source": [
    "# Create the array and populate all positions\n",
    "asicMatrix = [[None for i in range(nCols)] for j in range(nRows)] \n",
    "\n",
    "for i in range(0,nRows):\n",
    "  for j in range(0,nCols):\n",
    "    # Create the random frequency here\n",
    "    fThisAsic = random.gauss(fNominal,fNominal*pctSpread)\n",
    "    # Create an ASIC at this position\n",
    "    asicMatrix[i][j] = QPixAsic(fThisAsic, nPixs, row = i, col = j)\n",
    "    ## Debug info\n",
    "    if debugLevel >= 5:\n",
    "      print(\"Created ASIC at row \"+str(i)+\" col \"+str(j)+\" with frequency \"+str(fThisAsic))\n",
    "\n",
    "#if debugLevel >= 5:\n",
    "#  print(asicMatrix)"
   ]
  },
  {
   "cell_type": "code",
   "execution_count": 13,
   "metadata": {},
   "outputs": [],
   "source": [
    "# Create the connections between all ASICs\n",
    "for i in range(0,nRows):\n",
    "  for j in range(0,nCols):\n",
    "    # 0 - North\n",
    "    # 1 - East\n",
    "    # 2 - South\n",
    "    # 3 - West\n",
    "    if i > 0:\n",
    "      asicMatrix[i][j].connections[0] = asicMatrix[i-1][j]\n",
    "    if i < nRows-1:\n",
    "      asicMatrix[i][j].connections[2] = asicMatrix[i+1][j]\n",
    "    if j > 0:\n",
    "      asicMatrix[i][j].connections[3] = asicMatrix[i][j-1]\n",
    "    if j < nCols-1:\n",
    "      asicMatrix[i][j].connections[1] = asicMatrix[i][j+1]    "
   ]
  },
  {
   "cell_type": "code",
   "execution_count": 14,
   "metadata": {},
   "outputs": [],
   "source": [
    "# Create a dummy DAQ node and connect it up to our target\n",
    "daqNode = QPixAsic(fNominal, 0, isDaqNode = True)\n",
    "asicMatrix[0][0].connections[3] = daqNode"
   ]
  },
  {
   "cell_type": "code",
   "execution_count": 15,
   "metadata": {},
   "outputs": [
    {
     "name": "stdout",
     "output_type": "stream",
     "text": [
      "Connection count per ASIC:\n",
      "3 2 \n",
      "2 2 \n"
     ]
    }
   ],
   "source": [
    "# Print count of connections vs. position\n",
    "if debugLevel >= 5:\n",
    "  print(\"Connection count per ASIC:\")\n",
    "  for i in range(0,nRows):\n",
    "    for j in range(0,nCols):\n",
    "      print( str(asicMatrix[i][j].CountConnections())+\" \", end = '')\n",
    "    print(\"\")"
   ]
  },
  {
   "cell_type": "code",
   "execution_count": 16,
   "metadata": {},
   "outputs": [
    {
     "name": "stdout",
     "output_type": "stream",
     "text": [
      "Connections to the North per ASIC:\n",
      "0 0 \n",
      "1 1 \n",
      "Connections to the East per ASIC:\n",
      "1 0 \n",
      "1 0 \n",
      "Connections to the South per ASIC:\n",
      "1 1 \n",
      "0 0 \n",
      "Connections to the West per ASIC:\n",
      "1 1 \n",
      "0 1 \n"
     ]
    }
   ],
   "source": [
    "# Print north connections vs. position\n",
    "if debugLevel >= 5:\n",
    "  for d in range(0,len(DIRECTIONS)):\n",
    "    dir = DIRECTIONS[d]\n",
    "    print(\"Connections to the \"+dir+\" per ASIC:\")\n",
    "    for i in range(0,nRows):\n",
    "      for j in range(0,nCols):\n",
    "        print( str(asicMatrix[i][j].HasConnection(d))+\" \", end = '')\n",
    "      print(\"\")"
   ]
  },
  {
   "cell_type": "code",
   "execution_count": 17,
   "metadata": {},
   "outputs": [],
   "source": [
    "# Start time now\n",
    "timeNow = 0\n",
    "tickNow = 0\n",
    "stepNum = 0\n",
    "\n",
    "# Create an empty processing queue\n",
    "procQueue = ProcQueue()"
   ]
  },
  {
   "cell_type": "code",
   "execution_count": 20,
   "metadata": {},
   "outputs": [],
   "source": [
    "timeNow += deltaT\n",
    "tickNow += deltaTick\n",
    "\n",
    "# Maximum queue depths\n",
    "maxConnQueueDepths = [[[0 for i in range(nCols)] for j in range(nRows)] for k in range(4)]\n",
    "maxSelfQueueDepths = [[0 for i in range(nCols)] for j in range(nRows)]\n",
    "\n",
    "while(timeNow < timeEnd):\n",
    "\n",
    "  # Make sure there's nothing to do right now\n",
    "  # Now iterate through ASICs and keep doing processing on them until\n",
    "  # they're caught up to the latest time.\n",
    "  for i in range(nRows):\n",
    "    for j in range(nCols):\n",
    "      newProcessItems = asicMatrix[i][j].Process(timeNow - timeEpsilon)\n",
    "      if len(newProcessItems) > 0:\n",
    "        print(\"WARNING: ASIC (\"+str(i)+\",\"+str(j)+\") had things left to do at next major time step\")\n",
    "\n",
    "        # Print states if they were updated\n",
    "        if debugLevel >= 5:\n",
    "          asicMatrix[i][j].PrintStatus()\n",
    "          print(\"ASIC (\"+str(i)+\",\"+str(j)+\") state updated in step \"+str(stepNum)+\", time \"+str(asicMatrix[i][j].absTimeNow)+\":\")\n",
    "          # for i in range(0,nRows):\n",
    "          #   for j in range(0,nCols):\n",
    "          #     print( str(asicMatrix[i][j].stateNum)+\" \", end = '')\n",
    "          #   print(\"\")\n",
    "\n",
    "  # Add a first timestamp at 1 second\n",
    "  timestamp = PixelHit(tickNow, [], None, None)                \n",
    "    \n",
    "  procQueue.AddQueueItem(asicMatrix[0][0], 3, timestamp, timeNow)\n",
    "\n",
    "  while(procQueue.Length() > 0):\n",
    "    #  print(\"Before step \"+str(stepNum)+\" list length is: \"+str(procQueue.Length()))\n",
    "    nextItem = procQueue.PopQueue()\n",
    "    # print(\"Next item is: \",end='')\n",
    "    # print(nextItem)\n",
    "    nextAsic = nextItem.asic\n",
    "    newQueueItems = nextAsic.ReceiveData(nextItem)\n",
    "    for item in newQueueItems:\n",
    "      procQueue.queue.append(item)\n",
    "      procQueue.SortQueue()\n",
    "      # print(\"After step \"+str(stepNum)+\" list length is: \"+str(procQueue.Length()))\n",
    "\n",
    "    # Check the current queue depths\n",
    "    for i in range(nRows):\n",
    "      for j in range(nCols):\n",
    "        # Local queue depth\n",
    "        localDepthA = len(asicMatrix[i][j].queues[0])\n",
    "        localDepthB = len(asicMatrix[i][j].queues[1])\n",
    "        localMax    = localDepthA if localDepthA > localDepthB else localDepthB\n",
    "        cur_maxLocalDepth = maxSelfQueueDepths[i][j]\n",
    "        if (localMax > cur_maxLocalDepth):\n",
    "          maxSelfQueueDepths[i][j] = localMax\n",
    "          # Do the same for all the neighbor queues\n",
    "          for d in range(4):\n",
    "            cur_maxLocalDepth = maxConnQueueDepths[d][i][j]\n",
    "            localMax    = len(asicMatrix[i][j].connQueues[d])\n",
    "            if localMax > cur_maxLocalDepth:\n",
    "              maxConnQueueDepths[d][i][j] = cur_maxLocalDepth\n",
    "\n",
    "    # Print states at every step\n",
    "    # if debugLevel >= 5:\n",
    "    #   asicMatrix[i][j].PrintStatus()\n",
    "      # print(\"ASIC state status after step \"+str(stepNum)+\", time \"+str(nextItem[3])+\":\")\n",
    "      # for i in range(nRows):\n",
    "      #   for j in range(nCols):\n",
    "          # print(str(asicMatrix[i][j].stateNum)+\" \", end = '')\n",
    "\n",
    "    # Now iterate through ASICs and keep doing processing on them until\n",
    "    # they're caught up to the latest time.\n",
    "    somethingToDo = True\n",
    "    while somethingToDo and procQueue.Length() > 0:\n",
    "      nextTime = procQueue.queue[0][3]\n",
    "      somethingToDo = False\n",
    "      for i in range(nRows):\n",
    "        for j in range(nCols):\n",
    "          if nextTime > asicMatrix[i][j].absTimeNow:\n",
    "            nothingToDo = False\n",
    "            newProcessItems = asicMatrix[i][j].Process(nextTime)\n",
    "            for item in newProcessItems:\n",
    "              procQueue.AddQueueItem(*item)\n",
    "              # procQueue.SortQueue()\n",
    "\n",
    "            # Print states if they were updated\n",
    "            if debugLevel >= 5:\n",
    "              asicMatrix[i][j].PrintStatus()\n",
    "              print(\"ASIC (\"+str(i)+\",\"+str(j)+\") state updated in step \"+str(stepNum)+\", time \"+str(asicMatrix[i][j].absTimeNow)+\":\")\n",
    "              # for i in range(0,nRows):\n",
    "              #   for j in range(0,nCols):\n",
    "              #     print(str(asicMatrix[i][j].stateNum)+\" \", end = '')\n",
    "\n",
    "    stepNum += 1\n",
    "\n",
    "  timeNow += deltaT\n",
    "  tickNow += deltaTick"
   ]
  },
  {
   "cell_type": "code",
   "execution_count": 22,
   "metadata": {},
   "outputs": [
    {
     "name": "stdout",
     "output_type": "stream",
     "text": [
      "MAX QUEUE DEPTHS\n",
      "0 0 6 0 0 0 0 \n",
      "0 1 0 0 0 0 0 \n",
      "1 0 0 0 0 0 0 \n",
      "1 1 0 0 0 0 0 \n"
     ]
    }
   ],
   "source": [
    "print(\"MAX QUEUE DEPTHS\")\n",
    "# Check the current queue depths\n",
    "for i in range(0,nRows):\n",
    "  for j in range(0,nCols):\n",
    "    print(str(i)+\" \"+str(j)+\" \"+str(asicMatrix[i][j]._maxLocalDepth)+\" \",end='')\n",
    "    for d in range(0,4):\n",
    "      print(str(asicMatrix[i][j].maxConnDepths[d])+\" \",end='')\n",
    "    print()"
   ]
  }
 ],
 "metadata": {
  "kernelspec": {
   "display_name": "Python 3",
   "language": "python",
   "name": "python3"
  },
  "language_info": {
   "codemirror_mode": {
    "name": "ipython",
    "version": 3
   },
   "file_extension": ".py",
   "mimetype": "text/x-python",
   "name": "python",
   "nbconvert_exporter": "python",
   "pygments_lexer": "ipython3",
   "version": "3.10.1"
  }
 },
 "nbformat": 4,
 "nbformat_minor": 4
}
