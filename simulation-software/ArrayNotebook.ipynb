{
 "cells": [
  {
   "cell_type": "code",
   "execution_count": 1,
   "metadata": {},
   "outputs": [],
   "source": [
    "import QpixAsicArray as qparray\n",
    "from QpixAsic import PixelHit, ProcQueue\n",
    "import random\n",
    "import numpy as np\n",
    "random.seed(2)"
   ]
  },
  {
   "cell_type": "code",
   "execution_count": 4,
   "metadata": {},
   "outputs": [
    {
     "name": "stdout",
     "output_type": "stream",
     "text": [
      "performing calibration..\n",
      "received data! 265\n",
      "received data! 549\n",
      "received data! 547\n",
      "received data! 789\n",
      "received data! 766\n",
      "received data! 1080\n",
      "received data! 789\n",
      "received data! 1107\n",
      "received data! 1293\n",
      "calibration complete in 100043 steps!\n",
      "current time is 0.2000000000001587\n",
      "9\n"
     ]
    }
   ],
   "source": [
    "qpa = qparray.QpixAsicArray(3, 3, debug=0.0, deltaT=2e-6)\n",
    "qpa._daqNode._debugLevel = 0\n",
    "qpa.Calibrate(0.2)\n",
    "# qpa.Calibrate(0.2)\n",
    "print(qpa._daqNode.daqHits)"
   ]
  },
  {
   "cell_type": "code",
   "execution_count": 10,
   "metadata": {},
   "outputs": [
    {
     "name": "stdout",
     "output_type": "stream",
     "text": [
      "performing calibration..\n",
      "received data! 49021734\n",
      "received data! 52756085\n",
      "received data! 52376488\n",
      "received data! 50481714\n",
      "received data! 48081970\n",
      "received data! 52194601\n",
      "received data! 50333113\n",
      "received data! 53747817\n",
      "received data! 49971511\n",
      "calibration complete in 100043 steps!\n",
      "current time is 1.200005999992832\n"
     ]
    }
   ],
   "source": [
    "qpa.Calibrate(0.2)"
   ]
  },
  {
   "cell_type": "code",
   "execution_count": 11,
   "metadata": {},
   "outputs": [
    {
     "name": "stdout",
     "output_type": "stream",
     "text": [
      "asic ticks: [265, 24510999, 49021734]\n",
      "asic ticks: [549, 26378317, 52756085]\n",
      "asic ticks: [547, 26188517, 52376488]\n",
      "asic ticks: [789, 25241252, 50481714]\n",
      "asic ticks: [766, 24041368, 48081970]\n",
      "asic ticks: [1080, 26097841, 52194601]\n",
      "asic ticks: [789, 25166951, 50333113]\n",
      "asic ticks: [1107, 26874462, 53747817]\n",
      "asic ticks: [1293, 24986402, 49971511]\n",
      "(0,0) percent diff: -1.44E-06\n",
      "(0,1) percent diff: 3.07E-07\n",
      "(0,2) percent diff: 1.50E-06\n",
      "(1,0) percent diff: -2.13E-06\n",
      "(1,1) percent diff: -5.53E-07\n",
      "(1,2) percent diff: 1.31E-06\n",
      "(2,0) percent diff: 1.32E-06\n",
      "(2,1) percent diff: 2.54E-07\n",
      "(2,2) percent diff: -1.48E-06\n"
     ]
    }
   ],
   "source": [
    "guessFrq = {}\n",
    "for k, v in qpa._daqNode.pixelData.items():\n",
    "    asic = k\n",
    "    # print(asic)\n",
    "    daqTicks = []\n",
    "    asicTicks = []\n",
    "    for daqTick, asicTick in v:\n",
    "        daqTicks.append(daqTick)\n",
    "        asicTicks.append(asicTick)\n",
    "    print(\"asic ticks:\", asicTicks)\n",
    "    guessFrq[asic] = (asicTicks[1] - asicTicks[0]) / (daqTicks[1] - daqTicks[0])  * qpa._daqNode.fOsc\n",
    "for asic in qpa:\n",
    "    key = f\"({asic.row},{asic.col})\"\n",
    "    print(f\"{key} percent diff: {(guessFrq[key] - asic.fOsc) / asic.fOsc * 100:1.2E}\")"
   ]
  }
 ],
 "metadata": {
  "interpreter": {
   "hash": "b9b23f4550f2a394cd97d09b79c3a66b1a7ae25daf42ec9780761e47f1ef4077"
  },
  "kernelspec": {
   "display_name": "Python 3.10.1 64-bit ('ics_env': conda)",
   "language": "python",
   "name": "python3"
  },
  "language_info": {
   "codemirror_mode": {
    "name": "ipython",
    "version": 3
   },
   "file_extension": ".py",
   "mimetype": "text/x-python",
   "name": "python",
   "nbconvert_exporter": "python",
   "pygments_lexer": "ipython3",
   "version": "3.10.1"
  },
  "orig_nbformat": 4
 },
 "nbformat": 4,
 "nbformat_minor": 2
}
