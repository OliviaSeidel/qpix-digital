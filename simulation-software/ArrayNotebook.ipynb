{
 "cells": [
  {
   "cell_type": "code",
   "execution_count": 1,
   "metadata": {},
   "outputs": [],
   "source": [
    "import QpixAsicArray as qparray\n",
    "from QpixAsic import PixelHit, ProcQueue\n",
    "import random\n",
    "import numpy as np\n",
    "random.seed(2)\n",
    "qpa = qparray.QpixAsicArray(4, 4, debug=0.0)"
   ]
  },
  {
   "cell_type": "code",
   "execution_count": 2,
   "metadata": {},
   "outputs": [],
   "source": [
    "timeNow = 1.\n",
    "timeEnd = 4.0\n",
    "tickNow = 50e6\n",
    "deltaT = 1.0\n",
    "deltaTick = 50e6\n",
    "timeEpsilon = 1e-6\n",
    "eventTimes = []\n",
    "hitsPerEvent, eventTimes = [], []\n",
    "procQueue = ProcQueue()\n",
    "    \n",
    "while(timeNow < timeEnd):\n",
    "\n",
    "    items = 0\n",
    "    topProc = []\n",
    "    midProc = []\n",
    "    botProc = []\n",
    "    lenRecv = []\n",
    "    asicRow = []\n",
    "    asicCol = []\n",
    "\n",
    "    for asic in qpa:\n",
    "        newProcessItems = asic.Process(timeNow - timeEpsilon)\n",
    "        if newProcessItems:\n",
    "            print(\"WARNING: ASIC had things left to do at next maor time step\")\n",
    "\n",
    "    procQueue.AddQueueItem(qpa[0][0], 3, PixelHit(tickNow, [], None, None), timeNow)\n",
    "\n",
    "    while(procQueue.Length() > 0):\n",
    "\n",
    "        nextItem = procQueue.PopQueue()\n",
    "        items += 1\n",
    "\n",
    "        topProc.append(qpa.ProcessArray(procQueue, nextItem.inTime))\n",
    "\n",
    "        newProcessItems = nextItem.asic.ReceiveData(nextItem)\n",
    "        if newProcessItems:\n",
    "            midProc.append(1)\n",
    "            lenRecv.append(len(newProcessItems))\n",
    "            for item in newProcessItems:\n",
    "                procQueue.AddQueueItem(*item)\n",
    "        else:\n",
    "            midProc.append(0)\n",
    "            lenRecv.append(0)\n",
    "\n",
    "        botProc.append(qpa.ProcessArray(procQueue, nextItem.inTime))\n",
    "\n",
    "    eventTimes.append(qpa._daqNode._absTimeNow-timeNow)\n",
    "    hitsPerEvent.append(qpa._daqNode.daqHits)\n",
    "    qpa._daqNode.daqHits = 0\n",
    "    timeNow += deltaT\n",
    "    tickNow += deltaTick\n",
    "    # print(\"ran through this many items:\", items)\n",
    "    # print('topProc:', np.sum(topProc), len(topProc), topProc[:20])\n",
    "    # print('midProc:  ', np.sum(midProc), len(midProc), midProc[:20])\n",
    "    # print('botProc:  ', np.sum(botProc), len(botProc), botProc[:20])\n",
    "    # print('lenRecv:  ', np.sum(lenRecv), len(lenRecv), lenRecv[:20])\n",
    "    # print('sum:', items-np.sum(topProc+midProc+botProc))"
   ]
  },
  {
   "cell_type": "code",
   "execution_count": 3,
   "metadata": {},
   "outputs": [
    {
     "name": "stdout",
     "output_type": "stream",
     "text": [
      "performing calibration..\n",
      "calibration complete in 38 steps!\n",
      "0\n"
     ]
    }
   ],
   "source": [
    "qpa.Calibrate(5)\n",
    "# qpa.PrintTimes()\n",
    "print(qpa._daqNode.daqHits)"
   ]
  }
 ],
 "metadata": {
  "interpreter": {
   "hash": "b9b23f4550f2a394cd97d09b79c3a66b1a7ae25daf42ec9780761e47f1ef4077"
  },
  "kernelspec": {
   "display_name": "Python 3.10.1 64-bit ('ics_env': conda)",
   "language": "python",
   "name": "python3"
  },
  "language_info": {
   "codemirror_mode": {
    "name": "ipython",
    "version": 3
   },
   "file_extension": ".py",
   "mimetype": "text/x-python",
   "name": "python",
   "nbconvert_exporter": "python",
   "pygments_lexer": "ipython3",
   "version": "3.10.1"
  },
  "orig_nbformat": 4
 },
 "nbformat": 4,
 "nbformat_minor": 2
}
